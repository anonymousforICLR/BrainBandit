{
 "cells": [
  {
   "cell_type": "code",
   "id": "initial_id",
   "metadata": {
    "collapsed": true,
    "ExecuteTime": {
     "end_time": "2024-05-22T07:23:34.465715Z",
     "start_time": "2024-05-22T07:23:34.163759Z"
    }
   },
   "source": [
    "import os\n",
    "import numpy as np\n",
    "import pandas as pd\n",
    "import seaborn as sns\n",
    "import plot_models_v_mouse as bp\n",
    "import model_policies as models\n",
    "from sklearn.model_selection import train_test_split\n",
    "import conditional_probs as cprobs\n",
    "import resample_and_model_reps as reps\n",
    "from theory import calculate_escape"
   ],
   "outputs": [],
   "execution_count": 1
  },
  {
   "cell_type": "code",
   "source": [
    "data = pd.read_csv(os.path.join('mouse_data.csv'))\n",
    "data.head()\n",
    "probs='80-20' # P(high)-P(low)\n",
    "seq_nback=3 # history length for conditional probabilites\n",
    "train_prop=0.7 # for splitting sessions into train and test\n",
    "seed = np.random.randint(1000) # set seed for reproducibility\n",
    "\n",
    "data = data.loc[data.Condition==probs] # segment out task condition\n",
    "data = cprobs.add_history_cols(data, seq_nback) # set history labels up front\n",
    "data.head()\n",
    "# train_session_ids, test_session_ids = train_test_split(data.Session.unique(), \n",
    "#                                                        train_size=train_prop, random_state=seed) # split full df for train/test"
   ],
   "metadata": {
    "collapsed": false,
    "ExecuteTime": {
     "end_time": "2024-05-22T07:23:37.909830Z",
     "start_time": "2024-05-22T07:23:34.466427Z"
    }
   },
   "id": "3c8ee3ce5baf6864",
   "outputs": [
    {
     "data": {
      "text/plain": [
       "   Trial  blockTrial  Decision  Switch  Reward Condition  Target  blockLength  \\\n",
       "0   11.0        11.0       0.0     1.0     1.0     80-20     0.0         12.0   \n",
       "1   12.0        12.0       0.0     0.0     1.0     80-20     0.0         12.0   \n",
       "2   13.0         0.0       0.0     0.0     0.0     80-20     1.0         53.0   \n",
       "3   14.0         1.0       0.0     0.0     0.0     80-20     1.0         53.0   \n",
       "4   15.0         2.0       1.0     1.0     1.0     80-20     1.0         53.0   \n",
       "\n",
       "  Session Mouse decision_seq reward_seq history RL_history  \n",
       "0   m1_63    m1          NaN        NaN     NaN        NaN  \n",
       "1   m1_63    m1          NaN        NaN     NaN        NaN  \n",
       "2   m1_63    m1          NaN        NaN     NaN        NaN  \n",
       "3   m1_63    m1          000        110     AAa        RRr  \n",
       "4   m1_63    m1          000        100     Aaa        Rrr  "
      ],
      "text/html": [
       "<div>\n",
       "<style scoped>\n",
       "    .dataframe tbody tr th:only-of-type {\n",
       "        vertical-align: middle;\n",
       "    }\n",
       "\n",
       "    .dataframe tbody tr th {\n",
       "        vertical-align: top;\n",
       "    }\n",
       "\n",
       "    .dataframe thead th {\n",
       "        text-align: right;\n",
       "    }\n",
       "</style>\n",
       "<table border=\"1\" class=\"dataframe\">\n",
       "  <thead>\n",
       "    <tr style=\"text-align: right;\">\n",
       "      <th></th>\n",
       "      <th>Trial</th>\n",
       "      <th>blockTrial</th>\n",
       "      <th>Decision</th>\n",
       "      <th>Switch</th>\n",
       "      <th>Reward</th>\n",
       "      <th>Condition</th>\n",
       "      <th>Target</th>\n",
       "      <th>blockLength</th>\n",
       "      <th>Session</th>\n",
       "      <th>Mouse</th>\n",
       "      <th>decision_seq</th>\n",
       "      <th>reward_seq</th>\n",
       "      <th>history</th>\n",
       "      <th>RL_history</th>\n",
       "    </tr>\n",
       "  </thead>\n",
       "  <tbody>\n",
       "    <tr>\n",
       "      <th>0</th>\n",
       "      <td>11.0</td>\n",
       "      <td>11.0</td>\n",
       "      <td>0.0</td>\n",
       "      <td>1.0</td>\n",
       "      <td>1.0</td>\n",
       "      <td>80-20</td>\n",
       "      <td>0.0</td>\n",
       "      <td>12.0</td>\n",
       "      <td>m1_63</td>\n",
       "      <td>m1</td>\n",
       "      <td>NaN</td>\n",
       "      <td>NaN</td>\n",
       "      <td>NaN</td>\n",
       "      <td>NaN</td>\n",
       "    </tr>\n",
       "    <tr>\n",
       "      <th>1</th>\n",
       "      <td>12.0</td>\n",
       "      <td>12.0</td>\n",
       "      <td>0.0</td>\n",
       "      <td>0.0</td>\n",
       "      <td>1.0</td>\n",
       "      <td>80-20</td>\n",
       "      <td>0.0</td>\n",
       "      <td>12.0</td>\n",
       "      <td>m1_63</td>\n",
       "      <td>m1</td>\n",
       "      <td>NaN</td>\n",
       "      <td>NaN</td>\n",
       "      <td>NaN</td>\n",
       "      <td>NaN</td>\n",
       "    </tr>\n",
       "    <tr>\n",
       "      <th>2</th>\n",
       "      <td>13.0</td>\n",
       "      <td>0.0</td>\n",
       "      <td>0.0</td>\n",
       "      <td>0.0</td>\n",
       "      <td>0.0</td>\n",
       "      <td>80-20</td>\n",
       "      <td>1.0</td>\n",
       "      <td>53.0</td>\n",
       "      <td>m1_63</td>\n",
       "      <td>m1</td>\n",
       "      <td>NaN</td>\n",
       "      <td>NaN</td>\n",
       "      <td>NaN</td>\n",
       "      <td>NaN</td>\n",
       "    </tr>\n",
       "    <tr>\n",
       "      <th>3</th>\n",
       "      <td>14.0</td>\n",
       "      <td>1.0</td>\n",
       "      <td>0.0</td>\n",
       "      <td>0.0</td>\n",
       "      <td>0.0</td>\n",
       "      <td>80-20</td>\n",
       "      <td>1.0</td>\n",
       "      <td>53.0</td>\n",
       "      <td>m1_63</td>\n",
       "      <td>m1</td>\n",
       "      <td>000</td>\n",
       "      <td>110</td>\n",
       "      <td>AAa</td>\n",
       "      <td>RRr</td>\n",
       "    </tr>\n",
       "    <tr>\n",
       "      <th>4</th>\n",
       "      <td>15.0</td>\n",
       "      <td>2.0</td>\n",
       "      <td>1.0</td>\n",
       "      <td>1.0</td>\n",
       "      <td>1.0</td>\n",
       "      <td>80-20</td>\n",
       "      <td>1.0</td>\n",
       "      <td>53.0</td>\n",
       "      <td>m1_63</td>\n",
       "      <td>m1</td>\n",
       "      <td>000</td>\n",
       "      <td>100</td>\n",
       "      <td>Aaa</td>\n",
       "      <td>Rrr</td>\n",
       "    </tr>\n",
       "  </tbody>\n",
       "</table>\n",
       "</div>"
      ]
     },
     "execution_count": 2,
     "metadata": {},
     "output_type": "execute_result"
    }
   ],
   "execution_count": 2
  },
  {
   "cell_type": "code",
   "source": [
    "session_ids = data.Session.unique()\n",
    "# session_ids = ['m1_63','m1_64','m1_65','m1_67', 'm1_92', 'm1_16', 'm1_17', 'm1_18']\n",
    "print(session_ids)"
   ],
   "metadata": {
    "collapsed": false,
    "ExecuteTime": {
     "end_time": "2024-05-22T07:23:37.913757Z",
     "start_time": "2024-05-22T07:23:37.910346Z"
    }
   },
   "id": "1912d1e3e98e8ea4",
   "outputs": [
    {
     "name": "stdout",
     "output_type": "stream",
     "text": [
      "['m1_63' 'm1_64' 'm1_65' 'm1_66' 'm1_67' 'm1_92' 'm1_16' 'm1_17' 'm1_18'\n",
      " 'm1_19' 'm1_20' 'm1_21' 'm1_22' 'm1_23' 'm1_24' 'm1_25' 'm1_26' 'm1_27'\n",
      " 'm1_28' 'm1_29' 'm1_30' 'm1_31' 'm1_32' 'm1_33' 'm1_34' 'm1_35' 'm1_36'\n",
      " 'm1_37' 'm1_61' 'm2_77' 'm2_78' 'm2_79' 'm2_80' 'm2_81' 'm2_100' 'm2_16'\n",
      " 'm2_17' 'm2_18' 'm2_19' 'm2_20' 'm2_21' 'm2_22' 'm2_23' 'm2_24' 'm2_25'\n",
      " 'm2_26' 'm2_27' 'm2_28' 'm2_29' 'm2_30' 'm2_31' 'm2_32' 'm2_33' 'm2_34'\n",
      " 'm2_35' 'm2_36' 'm2_37' 'm2_38' 'm2_39' 'm3_68' 'm3_69' 'm3_70' 'm3_71'\n",
      " 'm3_72' 'm3_80' 'm3_94' 'm3_14' 'm3_15' 'm3_16' 'm3_17' 'm3_18' 'm3_19'\n",
      " 'm3_20' 'm3_21' 'm3_22' 'm3_23' 'm3_24' 'm3_25' 'm3_26' 'm3_27' 'm3_28'\n",
      " 'm3_29' 'm3_30' 'm3_31' 'm3_32' 'm3_33' 'm3_34' 'm3_35' 'm3_36' 'm4_60'\n",
      " 'm4_61' 'm4_62' 'm4_63' 'm4_64' 'm4_89' 'm4_8' 'm4_9' 'm4_10' 'm4_11'\n",
      " 'm4_12' 'm4_13' 'm4_14' 'm4_15' 'm4_16' 'm4_17' 'm4_18' 'm4_19' 'm4_20'\n",
      " 'm4_21' 'm4_22' 'm4_23' 'm4_24' 'm4_25' 'm4_26' 'm4_27' 'm5_63' 'm5_64'\n",
      " 'm5_65' 'm5_66' 'm5_89' 'm5_15' 'm5_16' 'm5_17' 'm5_18' 'm5_19' 'm5_20'\n",
      " 'm5_21' 'm5_22' 'm5_23' 'm5_24' 'm5_25' 'm5_26' 'm5_27' 'm5_28' 'm6_35'\n",
      " 'm6_36' 'm6_37' 'm6_38' 'm6_39' 'm6_61' 'm6_16' 'm6_17' 'm6_18' 'm6_19'\n",
      " 'm6_20' 'm6_21' 'm6_22' 'm6_23' 'm6_24' 'm6_25' 'm6_26' 'm6_27' 'm6_28'\n",
      " 'm6_29' 'm6_30' 'm6_31' 'm6_32' 'm6_33' 'm6_34']\n"
     ]
    }
   ],
   "execution_count": 3
  },
  {
   "cell_type": "code",
   "source": [
    "\n",
    "data['block_pos_rev'] = data['blockTrial'] - data['blockLength'] # reverse block position from transition\n",
    "data['model']='mouse'\n",
    "data['highPort'] = data['Decision']==data['Target'] # boolean, chose higher probability port\n",
    "\n",
    "train_features, _, _ = reps.pull_sample_dataset(session_ids, data)\n",
    "test_features, _, block_pos_core = reps.pull_sample_dataset(session_ids, data)\n",
    "print(block_pos_core)\n",
    "block_pos_core.to_csv('./block_pos_core.csv', index=False)\n",
    "bpos_mouse = bp.get_block_position_summaries(block_pos_core)\n",
    "bpos_mouse['condition'] = 'mouse'\n",
    "print(bpos_mouse)"
   ],
   "metadata": {
    "collapsed": false,
    "ExecuteTime": {
     "end_time": "2024-05-22T07:23:42.069538Z",
     "start_time": "2024-05-22T07:23:37.914417Z"
    }
   },
   "id": "fd2a518169bcad56",
   "outputs": [
    {
     "name": "stdout",
     "output_type": "stream",
     "text": [
      "        Trial  blockTrial  Decision  Switch  Reward Condition  Target  \\\n",
      "0        11.0        11.0       0.0     1.0     1.0     80-20     0.0   \n",
      "1        12.0        12.0       0.0     0.0     1.0     80-20     0.0   \n",
      "2        13.0         0.0       0.0     0.0     0.0     80-20     1.0   \n",
      "3        14.0         1.0       0.0     0.0     0.0     80-20     1.0   \n",
      "4        15.0         2.0       1.0     1.0     1.0     80-20     1.0   \n",
      "...       ...         ...       ...     ...     ...       ...     ...   \n",
      "117329  859.0        63.0       1.0     0.0     0.0     80-20     0.0   \n",
      "117330  860.0        64.0       1.0     0.0     0.0     80-20     0.0   \n",
      "117331  861.0        65.0       1.0     0.0     1.0     80-20     0.0   \n",
      "117332  862.0        66.0       1.0     0.0     0.0     80-20     0.0   \n",
      "117333  863.0        67.0       1.0     0.0     0.0     80-20     0.0   \n",
      "\n",
      "        blockLength Session Mouse decision_seq reward_seq history RL_history  \\\n",
      "0              12.0   m1_63    m1          NaN        NaN     NaN        NaN   \n",
      "1              12.0   m1_63    m1          NaN        NaN     NaN        NaN   \n",
      "2              53.0   m1_63    m1          NaN        NaN     NaN        NaN   \n",
      "3              53.0   m1_63    m1          000        110     AAa        RRr   \n",
      "4              53.0   m1_63    m1          000        100     Aaa        Rrr   \n",
      "...             ...     ...   ...          ...        ...     ...        ...   \n",
      "117329         68.0   m6_34    m6          111        000     aaa        lll   \n",
      "117330         68.0   m6_34    m6          111        000     aaa        lll   \n",
      "117331         68.0   m6_34    m6          111        000     aaa        lll   \n",
      "117332         68.0   m6_34    m6          111        001     aaA        llL   \n",
      "117333         68.0   m6_34    m6          111        010     aAa        lLl   \n",
      "\n",
      "        block_pos_rev  model  highPort  \n",
      "0                -1.0  mouse      True  \n",
      "1                 0.0  mouse      True  \n",
      "2               -53.0  mouse     False  \n",
      "3               -52.0  mouse     False  \n",
      "4               -51.0  mouse      True  \n",
      "...               ...    ...       ...  \n",
      "117329           -5.0  mouse     False  \n",
      "117330           -4.0  mouse     False  \n",
      "117331           -3.0  mouse     False  \n",
      "117332           -2.0  mouse     False  \n",
      "117333           -1.0  mouse     False  \n",
      "\n",
      "[117334 rows x 17 columns]\n",
      "    block_pos     phigh  phigh_std   pswitch  pswitch_std     n condition\n",
      "0       -20.0  0.815337   0.388143  0.069939     0.255122  1630     mouse\n",
      "1       -19.0  0.820743   0.383682  0.074940     0.263374  1668     mouse\n",
      "2       -18.0  0.822800   0.381951  0.070880     0.256700  1693     mouse\n",
      "3       -17.0  0.814088   0.389148  0.061778     0.240822  1732     mouse\n",
      "4       -16.0  0.826847   0.378486  0.075014     0.263488  1773     mouse\n",
      "5       -15.0  0.827815   0.377646  0.068433     0.252557  1812     mouse\n",
      "6       -14.0  0.823974   0.380945  0.061015     0.239423  1852     mouse\n",
      "7       -13.0  0.834658   0.371587  0.066243     0.248772  1887     mouse\n",
      "8       -12.0  0.837233   0.369249  0.056682     0.231295  1923     mouse\n",
      "9       -11.0  0.837411   0.369085  0.070846     0.256633  1962     mouse\n",
      "10      -10.0  0.837905   0.368630  0.065337     0.247181  2005     mouse\n",
      "11       -9.0  0.837877   0.368653  0.074002     0.261838  2054     mouse\n",
      "12       -8.0  0.832698   0.373334  0.065300     0.247114  2098     mouse\n",
      "13       -7.0  0.817254   0.386548  0.076067     0.265166  2156     mouse\n",
      "14       -6.0  0.829169   0.376447  0.067697     0.251281  2201     mouse\n",
      "15       -5.0  0.825990   0.379202  0.068536     0.252719  2247     mouse\n",
      "16       -4.0  0.825272   0.379817  0.080174     0.271622  2295     mouse\n",
      "17       -3.0  0.819923   0.384333  0.067688     0.251264  2349     mouse\n",
      "18       -2.0  0.815724   0.387790  0.073627     0.261218  2404     mouse\n",
      "19       -1.0  0.803499   0.397433  0.079333     0.270312  2458     mouse\n",
      "20        0.0  0.178463   0.382985  0.071211     0.257234  2303     mouse\n",
      "21        1.0  0.238899   0.426505  0.088366     0.283889  2252     mouse\n",
      "22        2.0  0.332879   0.471351  0.125341     0.331180  2202     mouse\n",
      "23        3.0  0.424059   0.494314  0.143521     0.350684  2153     mouse\n",
      "24        4.0  0.506648   0.500075  0.138651     0.345665  2106     mouse\n",
      "25        5.0  0.582082   0.493336  0.143826     0.350998  2065     mouse\n",
      "26        6.0  0.633086   0.482082  0.119506     0.324463  2025     mouse\n",
      "27        7.0  0.681034   0.466194  0.111562     0.314906  1972     mouse\n",
      "28        8.0  0.708657   0.454499  0.097460     0.296660  1929     mouse\n",
      "29        9.0  0.743100   0.437040  0.088110     0.283531  1884     mouse\n",
      "30       10.0  0.772777   0.419152  0.090564     0.287066  1844     mouse\n",
      "31       11.0  0.786961   0.409560  0.080595     0.272283  1948     mouse\n",
      "32       12.0  0.811390   0.391301  0.075758     0.264679  1914     mouse\n",
      "33       13.0  0.818956   0.385157  0.081470     0.273628  1878     mouse\n",
      "34       14.0  0.835416   0.370906  0.085823     0.280178  1841     mouse\n",
      "35       15.0  0.844914   0.362087  0.064480     0.245675  1799     mouse\n",
      "36       16.0  0.853728   0.353479  0.073990     0.261829  1757     mouse\n",
      "37       17.0  0.864959   0.341867  0.069849     0.254966  1718     mouse\n",
      "38       18.0  0.867612   0.339012  0.071513     0.257756  1692     mouse\n",
      "39       19.0  0.875000   0.330819  0.066425     0.249099  1656     mouse\n",
      "40       20.0  0.878528   0.326776  0.062577     0.242274  1630     mouse\n"
     ]
    }
   ],
   "execution_count": 4
  },
  {
   "cell_type": "code",
   "source": [
    "L1 = 1 # choice history\n",
    "L2 =  5 # choice * reward history\n",
    "L3 = 0\n",
    "memories = [L1, L3, L2, 1]\n",
    "\n",
    "lr = models.fit_logreg_policy(train_features, memories) # refit model with reduced histories, training set\n",
    "model_probs = models.compute_logreg_probs(test_features, lr_args=[lr, memories])"
   ],
   "metadata": {
    "collapsed": false,
    "ExecuteTime": {
     "end_time": "2024-05-22T07:23:42.135932Z",
     "start_time": "2024-05-22T07:23:42.070027Z"
    }
   },
   "id": "9ae8a10c1c310c9b",
   "outputs": [],
   "execution_count": 5
  },
  {
   "cell_type": "code",
   "source": [
    "print(lr)"
   ],
   "metadata": {
    "collapsed": false,
    "ExecuteTime": {
     "end_time": "2024-05-22T07:23:42.138864Z",
     "start_time": "2024-05-22T07:23:42.136569Z"
    }
   },
   "id": "18129af6b5216971",
   "outputs": [
    {
     "name": "stdout",
     "output_type": "stream",
     "text": [
      "LogisticRegression(fit_intercept=False)\n"
     ]
    }
   ],
   "execution_count": 6
  },
  {
   "cell_type": "code",
   "source": [
    "model_choices, model_switches = models.model_to_policy(model_probs, test_features, policy='stochastic')\n",
    "\n",
    "linear = reps.reconstruct_block_pos(block_pos_core, model_choices, model_switches)\n",
    "linear_model = bp.get_block_position_summaries(linear)\n",
    "linear_model['condition'] = 'model' # label model predictions as such\n",
    "linear_model_v_mouse = pd.concat((bpos_mouse, linear_model)) # agg df with model predictions and mouse data\n",
    "color_dict = {'mouse': 'gray', 'model': sns.color_palette()[0]}#plot_config['model_seq_col']}\n",
    "bp.plot_by_block_position(bpos_mouse, subset='condition', color_dict = color_dict)"
   ],
   "metadata": {
    "collapsed": false,
    "ExecuteTime": {
     "end_time": "2024-05-22T07:23:42.437883Z",
     "start_time": "2024-05-22T07:23:42.139422Z"
    }
   },
   "id": "9a3d9cd78c7d5a36",
   "outputs": [
    {
     "data": {
      "text/plain": [
       "<Figure size 756x252 with 2 Axes>"
      ],
      "image/png": "[encoded data removed]"
     },
     "metadata": {},
     "output_type": "display_data"
    }
   ],
   "execution_count": 7
  },
  {
   "cell_type": "code",
   "source": [
    "for i in range(1):\n",
    "    print(len(test_features[0][0]))\n",
    "    # print(model_choices[0])\n",
    "    # print(model_switches[0])\n",
    "    # s = \n",
    "    # print(model_choices[i])"
   ],
   "metadata": {
    "collapsed": false,
    "ExecuteTime": {
     "end_time": "2024-05-22T07:23:42.440401Z",
     "start_time": "2024-05-22T07:23:42.438456Z"
    }
   },
   "id": "2a670224de20fc24",
   "outputs": [
    {
     "name": "stdout",
     "output_type": "stream",
     "text": [
      "587\n"
     ]
    }
   ],
   "execution_count": 8
  },
  {
   "cell_type": "code",
   "source": [
    "history_length = 5\n",
    "import sys\n",
    "sys.path.append('..')\n",
    "from model.Lyapunov_Worm_deconstruction import Lyapunov_Worm_Deconstruction\n",
    "from tqdm import tqdm\n",
    "dim = 2\n",
    "varargin = {\n",
    "    'step_num': 400,  # how many steps to run the brain circuit before executing the next movement\n",
    "    'tau': np.ones(dim),  # decay time constant\n",
    "    'weights_in': np.ones(dim) * 1.,  # input weights\n",
    "    'rs': np.ones(dim) * .5,  #\n",
    "    'w': np.ones(dim) * 4,  # weight of mutual inhibition\n",
    "    'k': 7. * np.ones(dim),  # sigmoid center\n",
    "    'n': 1.0 * np.ones(dim),  # sigmoid slope\n",
    "    'bi': np.ones(dim) * 5.,  # baseline production\n",
    "    'dt': 1.2,  # size of timesteps\n",
    "    'nsf': 0.85,  # noise level\n",
    "    'w_avg_comp': 0.5,\n",
    "    'w_std_comp': 0.5\n",
    "}\n",
    "choice_list = []\n",
    "switches_list = []\n",
    "ALL = 0\n",
    "num = 0\n",
    "for session in tqdm(range(len(test_features))):\n",
    "    idx = 0\n",
    "    net = Lyapunov_Worm_Deconstruction(varargin=varargin, dim=dim)\n",
    "    choice_history_session = test_features[session][0]\n",
    "    reward_history_session = test_features[session][1]\n",
    "    choice_list_session = []\n",
    "    switches_list_session = []\n",
    "    for trial in range(choice_history_session.shape[0]):\n",
    "        idx += 1\n",
    "        # print(idx)\n",
    "        reward_history_list = [[0.],[0.]]\n",
    "        lf = max(0, trial - history_length)\n",
    "        choice_history = choice_history_session[lf:trial]\n",
    "        reward_history = reward_history_session[lf: trial]\n",
    "        # print((lf, trial+1))\n",
    "        # reward_history[reward_history==0] = -1\n",
    "        decay_list = np.arange(0, len(reward_history), 1)\n",
    "        decay_list = decay_list[::-1]\n",
    "        decay_list = 2.1*np.exp(-decay_list/1.3)\n",
    "        # print(decay_list)\n",
    "        reward_history = reward_history * decay_list \n",
    "        reward_history_list[0] += reward_history[choice_history==0].tolist()\n",
    "        reward_history_list[1] += reward_history[choice_history==1].tolist()\n",
    "        # print(reward_history_list)\n",
    "        reward_history = np.array(reward_history_list)\n",
    "        last_choice = choice_history[-1] if len(choice_history) > 0 else None\n",
    "        init_point = None\n",
    "        # print(reward_history)\n",
    "        if last_choice == 0:\n",
    "            init_point = [10.,2.]\n",
    "        elif last_choice == 1:\n",
    "            init_point = [2., 10.]\n",
    "        choice= net.decide(history=reward_history, init=True, init_point=init_point)\n",
    "        choice_list_session.append(choice)\n",
    "        if trial == 0:\n",
    "            switches_list_session.append(0)\n",
    "        else:\n",
    "            if choice != last_choice:\n",
    "                switches_list_session.append(1)\n",
    "            else:\n",
    "                switches_list_session.append(0)\n",
    "        I1 = np.mean(reward_history_list[0]) * varargin['w_avg_comp']\n",
    "        I2 = np.mean(reward_history_list[1]) * varargin['w_avg_comp']\n",
    "        # print((noise1, noise2))\n",
    "        noise1 = np.sqrt(varargin['nsf'] **2 + (np.std(reward_history_list[0])*varargin['w_std_comp']) **2) \n",
    "        noise2 = np.sqrt(varargin['nsf'] **2 + (np.std(reward_history_list[1])* varargin['w_std_comp']) **2)\n",
    "        P1, P2 = calculate_escape(I=[I1, I2], noise=[noise1, noise2])\n",
    "        # print((P1,P2))\n",
    "        target = choice_history_session[trial]\n",
    "        LL = (1-target) * np.log(float(P1)) + target * np.log(float(P2))\n",
    "        num += 1\n",
    "        # print(LL)\n",
    "        ALL += LL\n",
    "    choice_list.append(choice_list_session)\n",
    "    # print(choice_list)\n",
    "    switches_list.append(switches_list_session)\n",
    "        # print(choice)"
   ],
   "metadata": {
    "collapsed": false,
    "ExecuteTime": {
     "end_time": "2024-05-22T07:54:22.677521Z",
     "start_time": "2024-05-22T07:23:42.440851Z"
    }
   },
   "id": "31d7943835e02ba4",
   "outputs": [
    {
     "name": "stderr",
     "output_type": "stream",
     "text": [
      "  0%|          | 0/159 [00:00<?, ?it/s]/tmp/ipykernel_9002/3141461564.py:47: VisibleDeprecationWarning: Creating an ndarray from ragged nested sequences (which is a list-or-tuple of lists-or-tuples-or ndarrays with different lengths or shapes) is deprecated. If you meant to do this, you must specify 'dtype=object' when creating the ndarray.\n",
      "  reward_history = np.array(reward_history_list)\n",
      "100%|██████████| 159/159 [30:40<00:00, 11.57s/it]\n"
     ]
    }
   ],
   "execution_count": 9
  },
  {
   "cell_type": "code",
   "source": [
    "print(ALL/num)"
   ],
   "metadata": {
    "collapsed": false,
    "ExecuteTime": {
     "end_time": "2024-05-22T07:54:22.680109Z",
     "start_time": "2024-05-22T07:54:22.678443Z"
    }
   },
   "id": "7f32058ce430fff",
   "outputs": [
    {
     "name": "stdout",
     "output_type": "stream",
     "text": [
      "-0.49666616278084535\n"
     ]
    }
   ],
   "execution_count": 10
  },
  {
   "cell_type": "code",
   "source": [
    "print(len(choice_list[0]))\n",
    "print(len(switches_list[0]))"
   ],
   "metadata": {
    "collapsed": false,
    "ExecuteTime": {
     "end_time": "2024-05-22T07:54:22.703694Z",
     "start_time": "2024-05-22T07:54:22.680472Z"
    }
   },
   "id": "7a940230b766414d",
   "outputs": [
    {
     "name": "stdout",
     "output_type": "stream",
     "text": [
      "587\n",
      "587\n"
     ]
    }
   ],
   "execution_count": 11
  },
  {
   "cell_type": "code",
   "source": [
    "block_pos_model = reps.reconstruct_block_pos(block_pos_core, choice_list, switches_list)\n",
    "block_pos_model.to_csv('./block_pos_model.csv', index=False)\n",
    "bpos_model = bp.get_block_position_summaries(block_pos_model)\n",
    "print(bpos_model)"
   ],
   "metadata": {
    "collapsed": false,
    "ExecuteTime": {
     "end_time": "2024-05-22T07:54:22.981020Z",
     "start_time": "2024-05-22T07:54:22.704029Z"
    }
   },
   "id": "dca78729650754be",
   "outputs": [
    {
     "name": "stdout",
     "output_type": "stream",
     "text": [
      "    block_pos     phigh  phigh_std   pswitch  pswitch_std     n\n",
      "0       -20.0  0.823926   0.381000  0.077301     0.267150  1630\n",
      "1       -19.0  0.807554   0.394340  0.086930     0.281818  1668\n",
      "2       -18.0  0.820437   0.383936  0.069108     0.253713  1693\n",
      "3       -17.0  0.816397   0.387272  0.069284     0.254010  1732\n",
      "4       -16.0  0.805979   0.395557  0.085166     0.279208  1773\n",
      "5       -15.0  0.817329   0.386503  0.074503     0.262661  1812\n",
      "6       -14.0  0.816955   0.386808  0.073434     0.260918  1852\n",
      "7       -13.0  0.816640   0.387064  0.080021     0.271398  1887\n",
      "8       -12.0  0.831513   0.374395  0.061882     0.241005  1923\n",
      "9       -11.0  0.825688   0.379474  0.076453     0.265789  1962\n",
      "10      -10.0  0.831920   0.374030  0.067830     0.251517  2005\n",
      "11       -9.0  0.831061   0.374789  0.073028     0.260246  2054\n",
      "12       -8.0  0.825548   0.379588  0.070543     0.256122  2098\n",
      "13       -7.0  0.808905   0.393255  0.080241     0.271729  2156\n",
      "14       -6.0  0.807360   0.394462  0.069060     0.253613  2201\n",
      "15       -5.0  0.818425   0.385580  0.074321     0.262351  2247\n",
      "16       -4.0  0.820044   0.384235  0.075381     0.264063  2295\n",
      "17       -3.0  0.816092   0.387492  0.077905     0.268080  2349\n",
      "18       -2.0  0.811148   0.391472  0.080699     0.272429  2404\n",
      "19       -1.0  0.815704   0.387804  0.082994     0.275930  2458\n",
      "20        0.0  0.176726   0.381520  0.082501     0.275186  2303\n",
      "21        1.0  0.251776   0.434130  0.102131     0.302888  2252\n",
      "22        2.0  0.343778   0.475076  0.136694     0.343602  2202\n",
      "23        3.0  0.447747   0.497378  0.151881     0.358989  2153\n",
      "24        4.0  0.535138   0.498882  0.145299     0.352486  2106\n",
      "25        5.0  0.594189   0.491167  0.127361     0.333457  2065\n",
      "26        6.0  0.644444   0.478800  0.120988     0.326193  2025\n",
      "27        7.0  0.696247   0.459994  0.117140     0.321669  1972\n",
      "28        8.0  0.727838   0.445188  0.097978     0.297362  1929\n",
      "29        9.0  0.750000   0.433128  0.095541     0.294039  1884\n",
      "30       10.0  0.778200   0.415570  0.087852     0.283157  1844\n",
      "31       11.0  0.772074   0.419602  0.083676     0.276972  1948\n",
      "32       12.0  0.820272   0.384061  0.088819     0.284557  1914\n",
      "33       13.0  0.827476   0.377936  0.077210     0.266995  1878\n",
      "34       14.0  0.836502   0.369920  0.079305     0.270287  1841\n",
      "35       15.0  0.867148   0.339509  0.080044     0.271437  1799\n",
      "36       16.0  0.858281   0.348861  0.075128     0.263673  1757\n",
      "37       17.0  0.852736   0.354472  0.082072     0.274555  1718\n",
      "38       18.0  0.871749   0.334467  0.069740     0.254784  1692\n",
      "39       19.0  0.876208   0.329444  0.064010     0.244844  1656\n",
      "40       20.0  0.873620   0.332380  0.063804     0.244478  1630\n"
     ]
    }
   ],
   "execution_count": 12
  },
  {
   "cell_type": "code",
   "source": [
    "\n",
    "bpos_model['condition'] = 'model' # label model predictions as such\n",
    "bpos_model_v_mouse = pd.concat((bpos_mouse, bpos_model)) # agg df with model predictions and mouse data\n",
    "color_dict = {'mouse': 'gray', 'model': sns.color_palette()[0]}#plot_config['model_seq_col']}\n",
    "bp.plot_by_block_position(bpos_model_v_mouse, subset='condition', color_dict = color_dict)"
   ],
   "metadata": {
    "collapsed": false,
    "ExecuteTime": {
     "end_time": "2024-05-22T07:54:23.096659Z",
     "start_time": "2024-05-22T07:54:22.981562Z"
    }
   },
   "id": "78ac5006f915636f",
   "outputs": [
    {
     "data": {
      "text/plain": [
       "<Figure size 756x252 with 2 Axes>"
      ],
      "image/png": "[encoded data removed]"
     },
     "metadata": {},
     "output_type": "display_data"
    }
   ],
   "execution_count": 13
  },
  {
   "cell_type": "markdown",
   "source": [],
   "metadata": {
    "collapsed": false
   },
   "id": "ee4bc17fba6fac3"
  },
  {
   "cell_type": "code",
   "source": [
    "df_mouse_symm_reference = cprobs.calc_conditional_probs(data, symm=True, \n",
    "                                                        action=['Switch']).sort_values('pswitch')"
   ],
   "metadata": {
    "collapsed": false,
    "ExecuteTime": {
     "end_time": "2024-05-22T07:54:23.106955Z",
     "start_time": "2024-05-22T07:54:23.097150Z"
    }
   },
   "id": "23620ff3b3558768",
   "outputs": [],
   "execution_count": 14
  },
  {
   "cell_type": "markdown",
   "source": [],
   "metadata": {
    "collapsed": false
   },
   "id": "dc68340723b513a0"
  },
  {
   "cell_type": "code",
   "source": [
    "df_mouse_symm = cprobs.calc_conditional_probs(block_pos_core, symm=True, action=['Switch', 'Decision'])\n",
    "df_mouse_symm = cprobs.sort_cprobs(df_mouse_symm, df_mouse_symm_reference.history.values)\n",
    "print(df_mouse_symm)\n",
    "bp.plot_sequences(df_mouse_symm, alpha=0.5) "
   ],
   "metadata": {
    "collapsed": false,
    "ExecuteTime": {
     "end_time": "2024-05-22T07:54:23.252832Z",
     "start_time": "2024-05-22T07:54:23.107386Z"
    }
   },
   "id": "1aae65eaf4e8154c",
   "outputs": [
    {
     "name": "stdout",
     "output_type": "stream",
     "text": [
      "   history  pdecision      n  pdecision_err   pswitch  pswitch_err\n",
      "0      AAA   0.515170  46738       0.002312  0.009414     0.000447\n",
      "16     aAA   0.513608  11207       0.004721  0.009637     0.000923\n",
      "8      AaA   0.510312  11879       0.004587  0.015153     0.001121\n",
      "24     aaA   0.526602   3496       0.008444  0.022311     0.002498\n",
      "13     AbB   0.647059    102       0.047318  0.029412     0.016729\n",
      "21     aBB   0.488516   2743       0.009544  0.033540     0.003438\n",
      "20     aBA   0.474359     78       0.056539  0.038462     0.021775\n",
      "4      ABA   0.333333     24       0.096225  0.041667     0.040789\n",
      "28     abA   0.538200    589       0.020542  0.044143     0.008464\n",
      "29     abB   0.518248    685       0.019091  0.045255     0.007942\n",
      "25     aaB   0.474044   2485       0.010017  0.053924     0.004531\n",
      "5      ABB   0.442857    140       0.041981  0.057143     0.019617\n",
      "2      AAa   0.512338  13454       0.004309  0.061617     0.002073\n",
      "9      AaB   0.506289    636       0.019825  0.075472     0.010474\n",
      "12     AbA   0.545126    277       0.029919  0.079422     0.016247\n",
      "18     aAa   0.511688   4663       0.007320  0.108728     0.004559\n",
      "17     aAB   0.532609     92       0.052018  0.119565     0.033827\n",
      "1      AAB   0.528302    159       0.039589  0.150943     0.028391\n",
      "10     Aaa   0.517212   5839       0.006539  0.201918     0.005253\n",
      "23     aBb   0.507360   1019       0.015662  0.220805     0.012994\n",
      "7      ABb   0.548571    175       0.037618  0.234286     0.032017\n",
      "14     Aba   0.571429     91       0.051877  0.274725     0.046793\n",
      "30     aba   0.571831    355       0.026262  0.318310     0.024723\n",
      "26     aaa   0.516974   5685       0.006628  0.329288     0.006233\n",
      "27     aab   0.545215   1139       0.014755  0.341528     0.014051\n",
      "22     aBa   0.600000    155       0.039350  0.354839     0.038431\n",
      "6      ABa   0.600000     15       0.126491  0.400000     0.126491\n",
      "11     Aab   0.529534    965       0.016067  0.435233     0.015960\n",
      "31     abb   0.547645    913       0.016472  0.439211     0.016425\n",
      "3      AAb   0.560166    482       0.022609  0.452282     0.022670\n",
      "19     aAb   0.547739    199       0.035282  0.457286     0.035314\n",
      "15     Abb   0.571429    378       0.025453  0.473545     0.025681\n"
     ]
    },
    {
     "data": {
      "text/plain": [
       "<Figure size 1008x302.4 with 1 Axes>"
      ],
      "image/png": "[encoded data removed]"
     },
     "metadata": {},
     "output_type": "display_data"
    }
   ],
   "execution_count": 15
  },
  {
   "cell_type": "code",
   "source": [
    "print()"
   ],
   "metadata": {
    "collapsed": false,
    "ExecuteTime": {
     "end_time": "2024-05-22T07:54:23.255233Z",
     "start_time": "2024-05-22T07:54:23.253477Z"
    }
   },
   "id": "754f00f90e71fa83",
   "outputs": [
    {
     "name": "stdout",
     "output_type": "stream",
     "text": [
      "\n"
     ]
    }
   ],
   "execution_count": 16
  },
  {
   "cell_type": "code",
   "source": [
    "symm_cprobs_model = cprobs.calc_conditional_probs(block_pos_model, symm=True, action=['Switch'])\n",
    "symm_cprobs_model = cprobs.sort_cprobs(symm_cprobs_model, df_mouse_symm.history.values)\n",
    "print(symm_cprobs_model)\n",
    "bp.plot_sequences(df_mouse_symm, overlay=symm_cprobs_model, main_label='mouse', overlay_label='model')\n",
    "bp.plot_scatter(df_mouse_symm, symm_cprobs_model)"
   ],
   "metadata": {
    "collapsed": false,
    "ExecuteTime": {
     "end_time": "2024-05-22T07:54:23.516286Z",
     "start_time": "2024-05-22T07:54:23.255801Z"
    }
   },
   "id": "992ed14ad049d6a0",
   "outputs": [
    {
     "name": "stdout",
     "output_type": "stream",
     "text": [
      "   history   pswitch      n  pswitch_err\n",
      "0      AAA  0.013929  46738     0.000542\n",
      "16     aAA  0.026144  11207     0.001507\n",
      "8      AaA  0.039481  11879     0.001787\n",
      "24     aaA  0.063501   3496     0.004124\n",
      "13     AbB  0.058824    102     0.023298\n",
      "21     aBB  0.003281   2743     0.001092\n",
      "20     aBA  0.435897     78     0.056147\n",
      "4      ABA  0.333333     24     0.096225\n",
      "28     abA  0.040747    589     0.008146\n",
      "29     abB  0.026277    685     0.006112\n",
      "25     aaB  0.005634   2485     0.001501\n",
      "5      ABB  0.007143    140     0.007117\n",
      "2      AAa  0.089490  13454     0.002461\n",
      "9      AaB  0.012579    636     0.004419\n",
      "12     AbA  0.028881    277     0.010062\n",
      "18     aAa  0.138966   4663     0.005066\n",
      "17     aAB  0.010870     92     0.010810\n",
      "1      AAB  0.056604    159     0.018326\n",
      "10     Aaa  0.208597   5839     0.005317\n",
      "23     aBb  0.100098   1019     0.009402\n",
      "7      ABb  0.182857    175     0.029220\n",
      "14     Aba  0.175824     91     0.039905\n",
      "30     aba  0.276056    355     0.023727\n",
      "26     aaa  0.303606   5685     0.006098\n",
      "27     aab  0.362599   1139     0.014245\n",
      "22     aBa  0.774194    155     0.033584\n",
      "6      ABa  0.666667     15     0.121716\n",
      "11     Aab  0.434197    965     0.015956\n",
      "31     abb  0.342826    913     0.015709\n",
      "3      AAb  0.759336    482     0.019471\n",
      "19     aAb  0.608040    199     0.034607\n",
      "15     Abb  0.515873    378     0.025704\n"
     ]
    },
    {
     "data": {
      "text/plain": [
       "<Figure size 1008x302.4 with 1 Axes>"
      ],
      "image/png": "[encoded data removed]"
     },
     "metadata": {},
     "output_type": "display_data"
    },
    {
     "data": {
      "text/plain": [
       "<Figure size 288x288 with 1 Axes>"
      ],
      "image/png": "[encoded data removed]"
     },
     "metadata": {},
     "output_type": "display_data"
    }
   ],
   "execution_count": 17
  },
  {
   "cell_type": "code",
   "source": [],
   "metadata": {
    "collapsed": false,
    "ExecuteTime": {
     "end_time": "2024-05-22T07:54:23.518025Z",
     "start_time": "2024-05-22T07:54:23.516917Z"
    }
   },
   "id": "a272d6dfd5cf8859",
   "outputs": [],
   "execution_count": 17
  },
  {
   "cell_type": "code",
   "source": [
    "sum = 0\n",
    "corr = 0\n",
    "for idx in range(len(choice_list)):\n",
    "    targets = test_features[idx][0]\n",
    "    preds = choice_list[idx]\n",
    "    corr += np.sum(preds==targets) \n",
    "    sum += len(preds)\n",
    "print(corr/sum)"
   ],
   "metadata": {
    "collapsed": false,
    "ExecuteTime": {
     "end_time": "2024-05-22T07:54:23.529674Z",
     "start_time": "2024-05-22T07:54:23.518675Z"
    }
   },
   "id": "e4f5a89346f1c684",
   "outputs": [
    {
     "name": "stdout",
     "output_type": "stream",
     "text": [
      "0.8904920994767075\n"
     ]
    }
   ],
   "execution_count": 18
  },
  {
   "cell_type": "code",
   "source": [
    "sum = 0\n",
    "corr = 0\n",
    "for idx in range(len(choice_list)):\n",
    "    targets = model_switches[idx]\n",
    "    preds = np.array(switches_list[idx])\n",
    "    corr += np.sum(preds==targets) \n",
    "    sum += len(preds)\n",
    "print(switches_list[0])\n",
    "print(model_switches[0])\n",
    "print(corr/sum)"
   ],
   "metadata": {
    "collapsed": false,
    "ExecuteTime": {
     "end_time": "2024-05-22T07:54:23.552226Z",
     "start_time": "2024-05-22T07:54:23.530053Z"
    }
   },
   "id": "35af112b7e585484",
   "outputs": [
    {
     "name": "stdout",
     "output_type": "stream",
     "text": [
      "[0, 0, 0, 0, 0, 0, 0, 0, 0, 0, 0, 0, 0, 1, 0, 0, 0, 0, 0, 0, 0, 0, 0, 0, 0, 0, 0, 0, 0, 0, 0, 0, 0, 1, 0, 0, 0, 0, 0, 0, 0, 0, 0, 0, 0, 0, 0, 0, 0, 0, 0, 0, 0, 0, 0, 0, 0, 0, 0, 0, 0, 0, 0, 0, 1, 1, 0, 0, 0, 0, 0, 1, 0, 0, 0, 0, 1, 0, 0, 0, 0, 0, 0, 0, 0, 0, 0, 0, 0, 0, 0, 0, 0, 0, 0, 0, 0, 0, 1, 0, 1, 0, 0, 0, 0, 1, 0, 0, 0, 0, 0, 0, 0, 0, 0, 0, 0, 0, 0, 1, 0, 0, 0, 0, 0, 0, 0, 0, 0, 0, 0, 0, 1, 0, 0, 0, 0, 0, 0, 0, 0, 0, 0, 0, 0, 0, 0, 0, 0, 1, 0, 1, 0, 0, 0, 0, 0, 0, 0, 0, 0, 0, 0, 0, 0, 0, 0, 0, 0, 0, 0, 0, 0, 0, 0, 0, 0, 1, 0, 0, 0, 0, 0, 0, 0, 0, 0, 0, 0, 0, 0, 0, 0, 0, 0, 0, 0, 0, 0, 0, 0, 0, 0, 0, 0, 0, 0, 0, 0, 0, 0, 0, 1, 0, 0, 0, 0, 0, 0, 0, 0, 0, 0, 0, 0, 0, 0, 0, 0, 0, 0, 1, 0, 0, 0, 0, 0, 0, 0, 0, 0, 0, 0, 0, 0, 0, 1, 0, 0, 0, 1, 1, 0, 0, 0, 1, 0, 0, 0, 0, 0, 0, 0, 0, 0, 0, 0, 0, 0, 0, 0, 0, 0, 0, 0, 0, 0, 0, 0, 0, 0, 0, 0, 0, 0, 0, 0, 0, 0, 0, 0, 0, 0, 0, 0, 0, 0, 0, 1, 0, 1, 0, 0, 0, 0, 0, 0, 0, 0, 0, 0, 0, 0, 0, 0, 0, 0, 0, 0, 0, 0, 0, 0, 0, 0, 0, 0, 0, 0, 0, 0, 0, 0, 0, 0, 0, 0, 0, 0, 0, 0, 0, 0, 0, 0, 0, 0, 0, 0, 0, 0, 0, 0, 0, 0, 0, 0, 0, 0, 0, 1, 0, 0, 0, 0, 0, 0, 1, 0, 0, 0, 0, 0, 0, 1, 0, 0, 1, 1, 1, 0, 0, 0, 0, 0, 0, 0, 0, 0, 0, 0, 0, 0, 0, 0, 0, 0, 0, 0, 0, 0, 0, 1, 0, 0, 0, 0, 0, 0, 0, 0, 0, 0, 0, 0, 1, 0, 0, 0, 0, 0, 0, 0, 0, 0, 0, 0, 0, 0, 0, 0, 0, 0, 0, 0, 1, 1, 0, 0, 0, 0, 0, 0, 0, 0, 0, 0, 0, 0, 0, 0, 0, 0, 0, 0, 0, 0, 0, 0, 0, 0, 0, 0, 0, 0, 0, 0, 0, 0, 0, 0, 0, 0, 0, 0, 0, 0, 0, 0, 0, 0, 0, 1, 0, 0, 0, 0, 0, 0, 0, 0, 0, 0, 0, 0, 0, 0, 0, 0, 0, 0, 0, 0, 0, 0, 0, 0, 0, 0, 0, 0, 0, 0, 0, 0, 1, 0, 0, 0, 1, 0, 0, 0, 0, 0, 0, 0, 0, 0, 0, 0, 0, 0, 0, 0, 0, 0, 0, 0, 1, 0, 0, 0, 0, 0, 0, 1, 0, 0, 0, 0, 0, 0, 0, 0, 0, 0, 0, 1, 0, 0, 1, 0, 0, 0, 0, 0, 0, 0, 0, 0, 1, 0, 0, 0, 0, 0, 0, 0, 0, 0, 0, 0, 0, 0, 0, 0]\n",
      "[0, 0, 0, 0, 0, 0, 0, 0, 0, 0, 0, 0, 0, 0, 0, 0, 0, 0, 0, 0, 0, 0, 0, 0, 0, 0, 0, 0, 0, 0, 0, 0, 0, 0, 0, 1, 0, 0, 0, 0, 0, 0, 0, 0, 0, 0, 0, 0, 0, 0, 0, 0, 0, 0, 0, 0, 0, 0, 0, 0, 0, 0, 0, 0, 1, 0, 0, 1, 1, 0, 0, 0, 1, 0, 0, 0, 0, 0, 0, 0, 1, 0, 1, 0, 0, 0, 0, 0, 0, 0, 0, 0, 0, 0, 0, 0, 0, 0, 0, 0, 0, 0, 0, 0, 0, 0, 0, 0, 0, 0, 0, 0, 0, 0, 0, 0, 0, 0, 0, 0, 0, 0, 0, 0, 0, 0, 0, 0, 0, 0, 0, 0, 0, 0, 0, 0, 0, 0, 0, 0, 0, 0, 0, 0, 0, 0, 0, 0, 0, 1, 0, 0, 0, 1, 0, 1, 0, 0, 0, 0, 0, 1, 0, 0, 0, 0, 0, 0, 0, 0, 1, 0, 0, 0, 0, 0, 0, 0, 0, 0, 0, 0, 0, 0, 0, 0, 0, 0, 0, 0, 0, 0, 0, 0, 0, 0, 0, 0, 0, 0, 0, 0, 0, 1, 0, 0, 0, 0, 0, 0, 0, 0, 0, 0, 0, 0, 0, 0, 0, 0, 0, 0, 0, 0, 0, 0, 0, 0, 0, 0, 0, 0, 0, 0, 0, 0, 0, 0, 0, 0, 0, 0, 0, 0, 0, 1, 1, 0, 0, 0, 0, 0, 0, 0, 0, 0, 0, 0, 0, 0, 0, 0, 0, 0, 0, 0, 0, 0, 0, 0, 0, 0, 0, 1, 0, 0, 0, 0, 0, 1, 0, 0, 0, 0, 0, 0, 0, 0, 0, 0, 0, 0, 0, 0, 0, 0, 0, 0, 1, 0, 0, 0, 0, 1, 0, 0, 0, 0, 0, 0, 0, 0, 0, 1, 1, 1, 1, 0, 0, 0, 0, 0, 0, 0, 0, 0, 0, 0, 0, 0, 0, 0, 0, 0, 0, 0, 0, 0, 0, 0, 0, 0, 0, 0, 0, 0, 0, 0, 0, 0, 0, 0, 0, 0, 0, 0, 0, 1, 0, 0, 0, 0, 0, 0, 0, 0, 0, 0, 0, 0, 0, 0, 0, 0, 1, 0, 0, 1, 0, 0, 0, 0, 0, 1, 0, 0, 1, 0, 0, 0, 0, 0, 0, 0, 0, 0, 0, 0, 0, 0, 0, 0, 0, 0, 0, 0, 0, 0, 0, 0, 0, 0, 0, 0, 0, 0, 0, 0, 0, 0, 0, 0, 0, 0, 0, 0, 0, 0, 0, 0, 0, 0, 0, 0, 0, 0, 1, 0, 0, 0, 0, 0, 0, 1, 0, 0, 0, 0, 0, 0, 1, 0, 0, 1, 0, 0, 0, 1, 0, 0, 0, 0, 0, 0, 0, 0, 0, 0, 0, 0, 0, 1, 0, 0, 0, 0, 0, 0, 0, 0, 0, 0, 0, 0, 0, 0, 0, 0, 1, 0, 0, 0, 0, 0, 0, 0, 0, 0, 0, 0, 0, 0, 0, 0, 0, 0, 0, 0, 0, 0, 0, 0, 0, 0, 0, 0, 0, 0, 0, 0, 0, 0, 0, 0, 0, 0, 0, 0, 0, 0, 0, 0, 0, 0, 0, 0, 0, 0, 0, 0, 0, 0, 0, 0, 0, 0, 1, 0, 0, 0, 1, 0, 0, 0, 0, 0, 0, 0, 0, 0, 0, 0, 0, 0, 0, 0, 0, 0, 0, 0, 0, 1, 0, 0, 0, 0, 0, 0, 0, 0, 0, 0, 0, 1, 0, 0, 0]\n",
      "0.8913273220038522\n"
     ]
    }
   ],
   "execution_count": 19
  },
  {
   "cell_type": "code",
   "source": [
    "print(np.sum(block_pos_model['Switch'] == data['Switch']) / len(data))\n",
    "print(np.sum(block_pos_model['Decision'] == data['Decision']) / len(data))                                                                                  "
   ],
   "metadata": {
    "collapsed": false,
    "ExecuteTime": {
     "end_time": "2024-05-22T07:54:23.564610Z",
     "start_time": "2024-05-22T07:54:23.552601Z"
    }
   },
   "id": "a89bb429922c9360",
   "outputs": [
    {
     "name": "stdout",
     "output_type": "stream",
     "text": [
      "0.8909778921710673\n",
      "0.8904920994767075\n"
     ]
    }
   ],
   "execution_count": 20
  },
  {
   "cell_type": "code",
   "source": [
    "a = np.sum((block_pos_model['Switch'] == 0 ) & (data['Switch'] == 0)) / np.sum(data['Switch'] == 0)\n",
    "b = np.sum((block_pos_model['Switch'] == 1 ) & (data['Switch'] == 0)) / np.sum(data['Switch'] == 0)\n",
    "c = np.sum((block_pos_model['Switch'] == 0 ) & (data['Switch'] == 1)) / np.sum(data['Switch'] == 1)\n",
    "d = np.sum((block_pos_model['Switch'] == 1 ) & (data['Switch'] == 1)) / np.sum(data['Switch'] == 1)\n",
    "print(a.round(3)) \n",
    "print(b.round(3))\n",
    "print(c.round(3))\n",
    "print(d.round(3))"
   ],
   "metadata": {
    "collapsed": false,
    "ExecuteTime": {
     "end_time": "2024-05-22T07:54:23.580751Z",
     "start_time": "2024-05-22T07:54:23.564975Z"
    }
   },
   "id": "b8d80a19080177b8",
   "outputs": [
    {
     "name": "stdout",
     "output_type": "stream",
     "text": [
      "0.937\n",
      "0.063\n",
      "0.755\n",
      "0.245\n"
     ]
    }
   ],
   "execution_count": 21
  },
  {
   "cell_type": "code",
   "source": [
    "a = np.sum((block_pos_model['Decision'] == 0 ) & (data['Decision'] == 0)) / np.sum(data['Decision'] == 0)\n",
    "b = np.sum((block_pos_model['Decision'] == 1 ) & (data['Decision'] == 0)) / np.sum(data['Decision'] == 0)\n",
    "c = np.sum((block_pos_model['Decision'] == 0 ) & (data['Decision'] == 1)) / np.sum(data['Decision'] == 1)\n",
    "d = np.sum((block_pos_model['Decision'] == 1 ) & (data['Decision'] == 1)) / np.sum(data['Decision'] == 1)\n",
    "print(a.round(3))\n",
    "print(b.round(3))\n",
    "print(c.round(3))\n",
    "print(d.round(3))\n"
   ],
   "metadata": {
    "collapsed": false,
    "ExecuteTime": {
     "end_time": "2024-05-22T07:54:23.591187Z",
     "start_time": "2024-05-22T07:54:23.581131Z"
    }
   },
   "id": "9bc9f11ec3144588",
   "outputs": [
    {
     "name": "stdout",
     "output_type": "stream",
     "text": [
      "0.89\n",
      "0.11\n",
      "0.109\n",
      "0.891\n"
     ]
    }
   ],
   "execution_count": 22
  }
 ],
 "metadata": {
  "kernelspec": {
   "display_name": "Python 3",
   "language": "python",
   "name": "python3"
  },
  "language_info": {
   "codemirror_mode": {
    "name": "ipython",
    "version": 2
   },
   "file_extension": ".py",
   "mimetype": "text/x-python",
   "name": "python",
   "nbconvert_exporter": "python",
   "pygments_lexer": "ipython2",
   "version": "2.7.6"
  }
 },
 "nbformat": 4,
 "nbformat_minor": 5
}
