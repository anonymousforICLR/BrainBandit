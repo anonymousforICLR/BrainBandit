{
 "cells": [
  {
   "cell_type": "code",
   "source": [
    "import sys\n",
    "sys.path.append('..')\n",
    "import numpy as np\n",
    "import pandas as pd\n",
    "from model.Lyapunov_Worm_deconstruction import Lyapunov_Worm_Deconstruction\n",
    "from Bandit.Expected_Value import CalculateMeanValue\n",
    "from Bandit.BanditGame import Play\n",
    "from tqdm import tqdm\n",
    "from multiprocessing import  Process\n",
    "\n",
    "\n",
    "dim = 2\n",
    "varargin = {\n",
    "    'step_num': 400,  # how many steps to run the brain circuit before executing the next movement\n",
    "    'tau': np.ones(dim),  # decay time constant\n",
    "    'weights_in': np.ones(dim) * 1.,  # input weights\n",
    "    'rs': np.ones(dim) * .5,  #\n",
    "    'w': np.ones(dim) * 4,  # weight of mutual inhibition\n",
    "    'k': 7. * np.ones(dim),  # sigmoid center\n",
    "    'n': 1.5 * np.ones(dim),  # sigmoid slope\n",
    "    'bi': np.ones(dim) * 5.7,  # baseline production\n",
    "    'dt': 1.2,  # size of timesteps\n",
    "    'nsf': 1.25,  # noise level\n",
    "    'w_avg_comp': 1. / 20.,\n",
    "    'w_std_comp': 1. / 4. * 1.\n",
    "}\n",
    "# seed = 1\n",
    "# np.random.seed(seed)\n",
    "conds = ['RR','SS','RS','SR']\n",
    "bandit_std_dict = {\n",
    "    'RR': [4., 4.],\n",
    "    'SS': [0., 0.],\n",
    "    'RS': [4., 0.],\n",
    "    'SR': [0.,4.]\n",
    "    \n",
    "}\n",
    "def Play_bandit(cond):\n",
    "    bandit_std_list = bandit_std_dict[cond]\n",
    "    prior = None\n",
    "    raw_path = f'bandit_data/raw_{dim}D_fan_'+cond+'high1.csv'\n",
    "    analysis_path = f'bandit_data/analysed_{dim}D_fan_'+cond+'high1.csv'\n",
    "    p = Play(varargin=varargin, dim=dim, net='deconstruction', force_times=2, prior=prior, init=True, bandit_mean=0, mean_std=10, bandit_std_list=bandit_std_list, subject=1, block=20000, trial=20, save=True, save_path=raw_path, save_mode='w')\n",
    "    p.play()\n",
    "    k = CalculateMeanValue(raw_path, analysis_path, trial=20, dim=dim, prior=prior)\n",
    "    k.run()\n",
    "    \n",
    "if __name__ == '__main__':\n",
    "    process_list = []\n",
    "    for cond in conds:\n",
    "        p = Process(target=Play_bandit,args=(cond,))\n",
    "        p.start()\n",
    "        process_list.append(p)\n",
    "    \n",
    "    for i in process_list:\n",
    "        p.join()"
   ],
   "metadata": {
    "collapsed": false,
    "ExecuteTime": {
     "end_time": "2024-05-31T12:32:59.008290Z",
     "start_time": "2024-05-31T11:40:59.082532Z"
    }
   },
   "id": "67f1f7ff051c2328",
   "outputs": [
    {
     "name": "stderr",
     "output_type": "stream",
     "text": [
      "  0%|          | 0/20000 [00:00<?, ?it/s]/home/ubuntu/PycharmProjects/Brain-Bandit/Bandit/BanditGame.py:89: VisibleDeprecationWarning: Creating an ndarray from ragged nested sequences (which is a list-or-tuple of lists-or-tuples-or ndarrays with different lengths or shapes) is deprecated. If you meant to do this, you must specify 'dtype=object' when creating the ndarray.\n",
      "  reward_history = np.array(reward_history)\n",
      "/home/ubuntu/PycharmProjects/Brain-Bandit/Bandit/BanditGame.py:89: VisibleDeprecationWarning: Creating an ndarray from ragged nested sequences (which is a list-or-tuple of lists-or-tuples-or ndarrays with different lengths or shapes) is deprecated. If you meant to do this, you must specify 'dtype=object' when creating the ndarray.\n",
      "  reward_history = np.array(reward_history)\n",
      "/home/ubuntu/PycharmProjects/Brain-Bandit/Bandit/BanditGame.py:89: VisibleDeprecationWarning: Creating an ndarray from ragged nested sequences (which is a list-or-tuple of lists-or-tuples-or ndarrays with different lengths or shapes) is deprecated. If you meant to do this, you must specify 'dtype=object' when creating the ndarray.\n",
      "  reward_history = np.array(reward_history)\n",
      "/home/ubuntu/PycharmProjects/Brain-Bandit/Bandit/BanditGame.py:89: VisibleDeprecationWarning: Creating an ndarray from ragged nested sequences (which is a list-or-tuple of lists-or-tuples-or ndarrays with different lengths or shapes) is deprecated. If you meant to do this, you must specify 'dtype=object' when creating the ndarray.\n",
      "  reward_history = np.array(reward_history)\n",
      "100%|██████████| 20000/20000 [51:45<00:00,  6.44it/s] \n",
      "100%|█████████▉| 19997/20000 [51:46<00:00,  6.58it/s]"
     ]
    },
    {
     "name": "stdout",
     "output_type": "stream",
     "text": [
      "successfully save data to bandit_data/raw_2D_fan_RRhigh1.csv\n"
     ]
    },
    {
     "name": "stderr",
     "output_type": "stream",
     "text": [
      "100%|██████████| 20000/20000 [51:46<00:00,  6.44it/s]]\n",
      "100%|█████████▉| 19959/20000 [51:47<00:06,  6.66it/s]]"
     ]
    },
    {
     "name": "stdout",
     "output_type": "stream",
     "text": [
      "successfully save data to bandit_data/raw_2D_fan_RShigh1.csv\n"
     ]
    },
    {
     "name": "stderr",
     "output_type": "stream",
     "text": [
      "100%|██████████| 20000/20000 [00:04<00:00, 4241.96it/s]\n",
      "100%|██████████| 20000/20000 [51:51<00:00,  6.43it/s]s]\n",
      "100%|█████████▉| 19988/20000 [51:51<00:01,  6.64it/s]s]"
     ]
    },
    {
     "name": "stdout",
     "output_type": "stream",
     "text": [
      "successfully save data to bandit_data/analysed_2D_fan_RRhigh1.csv\n"
     ]
    },
    {
     "name": "stderr",
     "output_type": "stream",
     "text": [
      "100%|██████████| 20000/20000 [00:04<00:00, 4325.21it/s]\n"
     ]
    },
    {
     "name": "stdout",
     "output_type": "stream",
     "text": [
      "successfully save data to bandit_data/raw_2D_fan_SShigh1.csv\n"
     ]
    },
    {
     "name": "stderr",
     "output_type": "stream",
     "text": [
      "100%|█████████▉| 19995/20000 [51:52<00:00,  6.68it/s]]"
     ]
    },
    {
     "name": "stdout",
     "output_type": "stream",
     "text": [
      "successfully save data to bandit_data/analysed_2D_fan_RShigh1.csv\n"
     ]
    },
    {
     "name": "stderr",
     "output_type": "stream",
     "text": [
      "100%|██████████| 20000/20000 [51:53<00:00,  6.42it/s]]\n",
      " 43%|████▎     | 8622/20000 [00:02<00:02, 4294.59it/s]"
     ]
    },
    {
     "name": "stdout",
     "output_type": "stream",
     "text": [
      "successfully save data to bandit_data/raw_2D_fan_SRhigh1.csv\n"
     ]
    },
    {
     "name": "stderr",
     "output_type": "stream",
     "text": [
      "100%|██████████| 20000/20000 [00:04<00:00, 4316.99it/s]\n",
      " 71%|███████   | 14189/20000 [00:03<00:01, 4398.09it/s]"
     ]
    },
    {
     "name": "stdout",
     "output_type": "stream",
     "text": [
      "successfully save data to bandit_data/analysed_2D_fan_SShigh1.csv\n"
     ]
    },
    {
     "name": "stderr",
     "output_type": "stream",
     "text": [
      "100%|██████████| 20000/20000 [00:04<00:00, 4386.35it/s]\n"
     ]
    },
    {
     "name": "stdout",
     "output_type": "stream",
     "text": [
      "successfully save data to bandit_data/analysed_2D_fan_SRhigh1.csv\n"
     ]
    }
   ],
   "execution_count": 2
  }
 ],
 "metadata": {
  "kernelspec": {
   "display_name": "Python 3",
   "language": "python",
   "name": "python3"
  },
  "language_info": {
   "codemirror_mode": {
    "name": "ipython",
    "version": 2
   },
   "file_extension": ".py",
   "mimetype": "text/x-python",
   "name": "python",
   "nbconvert_exporter": "python",
   "pygments_lexer": "ipython2",
   "version": "2.7.6"
  }
 },
 "nbformat": 4,
 "nbformat_minor": 5
}
