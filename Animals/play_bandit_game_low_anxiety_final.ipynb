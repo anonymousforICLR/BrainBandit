{
 "cells": [
  {
   "cell_type": "code",
   "id": "d56ad6ce9598014c",
   "metadata": {
    "collapsed": true,
    "ExecuteTime": {
     "end_time": "2024-05-31T11:40:46.574756Z",
     "start_time": "2024-05-31T11:40:46.569516Z"
    }
   },
   "source": [
    "import sys\n",
    "sys.path.append('..')\n",
    "import numpy as np\n",
    "import pandas as pd\n",
    "from model.Lyapunov_Worm_deconstruction import Lyapunov_Worm_Deconstruction\n",
    "from Bandit.Expected_Value import CalculateMeanValue\n",
    "from Bandit.BanditGame import Play\n",
    "from tqdm import tqdm\n",
    "from multiprocessing import  Process\n"
   ],
   "outputs": [],
   "execution_count": 3
  },
  {
   "cell_type": "code",
   "source": [
    "\n",
    "dim = 2\n",
    "varargin = {\n",
    "    'step_num': 400,  # how many steps to run the brain circuit before executing the next movement\n",
    "    'tau': np.ones(dim),  # decay time constant\n",
    "    'weights_in': np.ones(dim) * 1.,  # input weights\n",
    "    'rs': np.ones(dim) * .5,  #\n",
    "    'w': np.ones(dim) * 4,  # weight of mutual inhibition\n",
    "    'k': 7. * np.ones(dim),  # sigmoid center\n",
    "    'n': 1.5 * np.ones(dim),  # sigmoid slope\n",
    "    'bi': np.ones(dim) * 6.0,  # baseline production\n",
    "    'dt': 1.2,  # size of timesteps\n",
    "    'nsf': 1.35,  # noise level\n",
    "    'w_avg_comp': 1. / 20.,\n",
    "    'w_std_comp': 1. / 4. * 1.\n",
    "}\n",
    "# seed = 1\n",
    "# np.random.seed(seed)\n",
    "conds = ['RR','SS','RS','SR']\n",
    "bandit_std_dict = {\n",
    "    'RR': [4., 4.],\n",
    "    'SS': [0., 0.],\n",
    "    'RS': [4., 0.],\n",
    "    'SR': [0.,4.]\n",
    "    \n",
    "}\n",
    "def Play_bandit(cond):\n",
    "    bandit_std_list = bandit_std_dict[cond]\n",
    "    prior = None\n",
    "    raw_path = f'bandit_data/raw_{dim}D_fan_' + cond + 'low1.csv'\n",
    "    analysis_path = f'bandit_data/analysed_{dim}D_fan_' + cond + 'low1.csv'\n",
    "    p = Play(varargin=varargin, dim=dim, net='deconstruction',force_times=2, prior=prior, init=True, bandit_mean=0, mean_std=10,\n",
    "             bandit_std_list=bandit_std_list, subject=1, block=20000, trial=20, save=True, save_path=raw_path,\n",
    "             save_mode='w')\n",
    "    p.play()\n",
    "    k = CalculateMeanValue(raw_path, analysis_path, trial=20, dim=dim, prior=prior)\n",
    "    k.run()\n",
    "if __name__ == '__main__':\n",
    "    process_list = []\n",
    "    for cond in conds:\n",
    "        p = Process(target=Play_bandit,args=(cond,))\n",
    "        p.start()\n",
    "        process_list.append(p)\n",
    "    \n",
    "    for i in process_list:\n",
    "        p.join()"
   ],
   "metadata": {
    "collapsed": false,
    "ExecuteTime": {
     "end_time": "2024-05-31T12:30:05.912818Z",
     "start_time": "2024-05-31T11:40:46.576768Z"
    }
   },
   "id": "initial_id",
   "outputs": [
    {
     "name": "stderr",
     "output_type": "stream",
     "text": [
      "  0%|          | 0/20000 [00:00<?, ?it/s]/home/ubuntu/PycharmProjects/Brain-Bandit/Bandit/BanditGame.py:89: VisibleDeprecationWarning: Creating an ndarray from ragged nested sequences (which is a list-or-tuple of lists-or-tuples-or ndarrays with different lengths or shapes) is deprecated. If you meant to do this, you must specify 'dtype=object' when creating the ndarray.\n",
      "  reward_history = np.array(reward_history)\n",
      "/home/ubuntu/PycharmProjects/Brain-Bandit/Bandit/BanditGame.py:89: VisibleDeprecationWarning: Creating an ndarray from ragged nested sequences (which is a list-or-tuple of lists-or-tuples-or ndarrays with different lengths or shapes) is deprecated. If you meant to do this, you must specify 'dtype=object' when creating the ndarray.\n",
      "  reward_history = np.array(reward_history)\n",
      "/home/ubuntu/PycharmProjects/Brain-Bandit/Bandit/BanditGame.py:89: VisibleDeprecationWarning: Creating an ndarray from ragged nested sequences (which is a list-or-tuple of lists-or-tuples-or ndarrays with different lengths or shapes) is deprecated. If you meant to do this, you must specify 'dtype=object' when creating the ndarray.\n",
      "  reward_history = np.array(reward_history)\n",
      "/home/ubuntu/PycharmProjects/Brain-Bandit/Bandit/BanditGame.py:89: VisibleDeprecationWarning: Creating an ndarray from ragged nested sequences (which is a list-or-tuple of lists-or-tuples-or ndarrays with different lengths or shapes) is deprecated. If you meant to do this, you must specify 'dtype=object' when creating the ndarray.\n",
      "  reward_history = np.array(reward_history)\n",
      "100%|██████████| 20000/20000 [48:59<00:00,  6.80it/s] \n",
      "100%|█████████▉| 19907/20000 [48:59<00:14,  6.55it/s]"
     ]
    },
    {
     "name": "stdout",
     "output_type": "stream",
     "text": [
      "successfully save data to bandit_data/raw_2D_fan_RSlow1.csv\n"
     ]
    },
    {
     "name": "stderr",
     "output_type": "stream",
     "text": [
      "100%|██████████| 20000/20000 [00:04<00:00, 4368.39it/s]\n",
      "100%|█████████▉| 19946/20000 [49:05<00:07,  7.06it/s]"
     ]
    },
    {
     "name": "stdout",
     "output_type": "stream",
     "text": [
      "successfully save data to bandit_data/analysed_2D_fan_RSlow1.csv\n"
     ]
    },
    {
     "name": "stderr",
     "output_type": "stream",
     "text": [
      "100%|██████████| 20000/20000 [49:06<00:00,  6.79it/s]\n",
      "100%|█████████▉| 19985/20000 [49:07<00:02,  7.06it/s]"
     ]
    },
    {
     "name": "stdout",
     "output_type": "stream",
     "text": [
      "successfully save data to bandit_data/raw_2D_fan_SSlow1.csv\n"
     ]
    },
    {
     "name": "stderr",
     "output_type": "stream",
     "text": [
      "100%|██████████| 20000/20000 [49:09<00:00,  6.78it/s]]\n",
      " 61%|██████▏   | 12269/20000 [00:02<00:01, 4534.39it/s]"
     ]
    },
    {
     "name": "stdout",
     "output_type": "stream",
     "text": [
      "successfully save data to bandit_data/raw_2D_fan_RRlow1.csv\n"
     ]
    },
    {
     "name": "stderr",
     "output_type": "stream",
     "text": [
      "100%|██████████| 20000/20000 [00:04<00:00, 4521.34it/s]\n",
      "100%|█████████▉| 19995/20000 [49:12<00:00,  7.08it/s]]"
     ]
    },
    {
     "name": "stdout",
     "output_type": "stream",
     "text": [
      "successfully save data to bandit_data/analysed_2D_fan_SSlow1.csv\n"
     ]
    },
    {
     "name": "stderr",
     "output_type": "stream",
     "text": [
      "100%|██████████| 20000/20000 [49:13<00:00,  6.77it/s]s]\n",
      " 84%|████████▍ | 16781/20000 [00:03<00:00, 4501.59it/s]"
     ]
    },
    {
     "name": "stdout",
     "output_type": "stream",
     "text": [
      "successfully save data to bandit_data/raw_2D_fan_SRlow1.csv\n"
     ]
    },
    {
     "name": "stderr",
     "output_type": "stream",
     "text": [
      "100%|██████████| 20000/20000 [00:04<00:00, 4467.04it/s]\n",
      " 30%|██▉       | 5929/20000 [00:01<00:03, 4484.11it/s]"
     ]
    },
    {
     "name": "stdout",
     "output_type": "stream",
     "text": [
      "successfully save data to bandit_data/analysed_2D_fan_RRlow1.csv\n"
     ]
    },
    {
     "name": "stderr",
     "output_type": "stream",
     "text": [
      "100%|██████████| 20000/20000 [00:04<00:00, 4520.88it/s]\n"
     ]
    },
    {
     "name": "stdout",
     "output_type": "stream",
     "text": [
      "successfully save data to bandit_data/analysed_2D_fan_SRlow1.csv\n"
     ]
    }
   ],
   "execution_count": 4
  },
  {
   "cell_type": "code",
   "source": [],
   "metadata": {
    "collapsed": false,
    "ExecuteTime": {
     "end_time": "2024-05-31T12:30:05.915133Z",
     "start_time": "2024-05-31T12:30:05.913819Z"
    }
   },
   "id": "29154aba92143f55",
   "outputs": [],
   "execution_count": 4
  }
 ],
 "metadata": {
  "kernelspec": {
   "display_name": "Python 3",
   "language": "python",
   "name": "python3"
  },
  "language_info": {
   "codemirror_mode": {
    "name": "ipython",
    "version": 2
   },
   "file_extension": ".py",
   "mimetype": "text/x-python",
   "name": "python",
   "nbconvert_exporter": "python",
   "pygments_lexer": "ipython2",
   "version": "2.7.6"
  }
 },
 "nbformat": 4,
 "nbformat_minor": 5
}
