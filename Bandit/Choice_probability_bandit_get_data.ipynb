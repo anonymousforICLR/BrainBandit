{
 "cells": [
  {
   "cell_type": "code",
   "metadata": {
    "collapsed": true,
    "is_executing": true,
    "ExecuteTime": {
     "end_time": "2024-05-07T03:28:35.076186Z",
     "start_time": "2024-05-07T03:28:34.938260Z"
    }
   },
   "source": [
    "import sys\n",
    "sys.path.append(\"..\")\n",
    "import numpy as np\n",
    "import matplotlib.pyplot as plt\n",
    "from BanditGame import Play\n",
    "from Expected_Value import CalculateMeanValue\n",
    "import pandas as pd\n",
    "\n",
    "bandit_mean = 0\n",
    "mean_std = 1\n",
    "\n",
    "dim = 2\n",
    "varargin = {\n",
    "\"seeking\":{\n",
    "    'step': 100000,  # how many steps to run the brain circuit before executing the next movement\n",
    "    'tau': np.ones(dim),  # decay time constant\n",
    "    'weights_in': np.ones(dim) * 1.,  # input weights\n",
    "    'rs': np.ones(dim) * .5,  #\n",
    "    'w': np.ones(dim) * 4,  # weight of mutual inhibition\n",
    "    'k': 7 * np.ones(2),  # sigmoid center\n",
    "    'n': 2 * np.ones(2),  # sigmoid slope\n",
    "    'bi': np.ones(2) * 6.25,  # baseline production\n",
    "    'dt': 0.4,  # size of timesteps\n",
    "    'nsf': 0.1,  # noise level\n",
    "},\n",
    "\"neutral\":{\n",
    "    'step': 100000,  # how many steps to run the brain circuit before executing the next movement\n",
    "    'tau': np.ones(dim),  # decay time constant\n",
    "    'weights_in': np.ones(dim) * 1.,  # input weights\n",
    "    'rs': np.ones(dim) * .5,  #\n",
    "    'w': np.ones(dim) * 4,  # weight of mutual inhibition\n",
    "    'k': 7 * np.ones(2),  # sigmoid center\n",
    "    'n': 2 * np.ones(2),  # sigmoid slope\n",
    "    'bi': np.ones(2) * 5.5,  # baseline production\n",
    "    'dt': 0.4,  # size of timesteps\n",
    "    'nsf': 0.1,  # noise level\n",
    "},\n",
    "\"averse\":{\n",
    "    'step': 100000,  # how many steps to run the brain circuit before executing the next movement\n",
    "    'tau': np.ones(dim),  # decay time constant\n",
    "    'weights_in': np.ones(dim) * 1.,  # input weights\n",
    "    'rs': np.ones(dim) * .5,  #\n",
    "    'w': np.ones(dim) * 4,  # weight of mutual inhibition\n",
    "    'k': 7 * np.ones(2),  # sigmoid center\n",
    "    'n': 2 * np.ones(2),  # sigmoid slope\n",
    "    'bi': np.ones(2) * 4.75,  # baseline production\n",
    "    'dt': 0.4,  # size of timesteps\n",
    "    'nsf': 0.1,  # noise level\n",
    "}\n",
    "}"
   ],
   "execution_count": 1,
   "outputs": []
  },
  {
   "metadata": {},
   "cell_type": "code",
   "execution_count": 7,
   "source": [
    "\n",
    "RU = 1\n",
    "std_list = [4.5,4,3.5,3]\n",
    "mode_list = ['seeking','neutral','averse']\n",
    "for mode in mode_list:\n",
    "    for std in std_list:\n",
    "        bandit_std_list = [std, std-RU]\n",
    "        p = Play(varargin=varargin[mode], force_times=5, init=True, bandit_mean=bandit_mean, mean_std=mean_std,\n",
    "                 bandit_std_list=bandit_std_list, subject=1, block=100000, trial=20, save=True,\n",
    "                 save_path=f'raw_data_std={std}_RU={RU}_{mode}.csv', save_mode='w')\n",
    "        p.play()\n",
    "        k = CalculateMeanValue(raw_path=f'raw_data_std={std}_RU={RU}_{mode}.csv', save_path=f'analysed_data_std={std}_RU={RU}_{mode}.csv',\n",
    "                          trial=20)\n",
    "        k.run()"
   ],
   "outputs": []
  },
  {
   "cell_type": "code",
   "source": [
    "TU = 8\n",
    "std_list = [7,6,5,4]\n",
    "mode_list = ['seeking','neutral','averse']\n",
    "for mode in mode_list:\n",
    "    for std in std_list:\n",
    "        bandit_std_list = [np.sqrt(std), np.sqrt(TU-std)]\n",
    "        p = Play(varargin=varargin[mode], force_times=5, init=True, bandit_mean=bandit_mean, mean_std=mean_std,\n",
    "                 bandit_std_list=bandit_std_list, subject=1, block=100000, trial=20, save=True,\n",
    "                 save_path=f'raw_data_std={std}_TU={TU}_{mode}.csv', save_mode='w')\n",
    "        p.play()\n",
    "        k = CalculateMeanValue(raw_path=f'raw_data_std={std}_TU={TU}_{mode}.csv', save_path=f'analysed_data_std={std}_TU={TU}_{mode}.csv',\n",
    "                          trial=20)\n",
    "        k.run()"
   ],
   "metadata": {
    "collapsed": false
   },
   "execution_count": null,
   "outputs": []
  }
 ],
 "metadata": {
  "kernelspec": {
   "display_name": "Python 3",
   "language": "python",
   "name": "python3"
  },
  "language_info": {
   "codemirror_mode": {
    "name": "ipython",
    "version": 2
   },
   "file_extension": ".py",
   "mimetype": "text/x-python",
   "name": "python",
   "nbconvert_exporter": "python",
   "pygments_lexer": "ipython2",
   "version": "2.7.6"
  }
 },
 "nbformat": 4,
 "nbformat_minor": 0
}
